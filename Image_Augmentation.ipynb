{
 "cells": [
  {
   "cell_type": "markdown",
   "id": "56a487f5",
   "metadata": {},
   "source": [
    "# Image Augmentation for Pix2Pix"
   ]
  },
  {
   "cell_type": "markdown",
   "id": "ae5a7d4e",
   "metadata": {},
   "source": [
    "## Imports and installs"
   ]
  },
  {
   "cell_type": "code",
   "execution_count": 63,
   "id": "c972d528",
   "metadata": {},
   "outputs": [],
   "source": [
    "import numpy as np\n",
    "import argparse\n",
    "import imutils\n",
    "import cv2\n",
    "import os, sys, random\n",
    "from random import randint"
   ]
  },
  {
   "cell_type": "code",
   "execution_count": 64,
   "id": "aff90922",
   "metadata": {},
   "outputs": [
    {
     "name": "stdout",
     "output_type": "stream",
     "text": [
      "Requirement already satisfied: imutils in c:\\users\\nramesh\\anaconda3\\lib\\site-packages (0.5.4)\n"
     ]
    }
   ],
   "source": [
    "!pip install imutils"
   ]
  },
  {
   "cell_type": "markdown",
   "id": "7b7e28b8",
   "metadata": {},
   "source": [
    "## Image rotation between -30 and 30 degrees"
   ]
  },
  {
   "cell_type": "code",
   "execution_count": 66,
   "id": "b46f41c6",
   "metadata": {},
   "outputs": [],
   "source": [
    "### Rotate\n",
    "\n",
    "def rotate_image(mat, angle):\n",
    "    \"\"\"\n",
    "    Rotates an image (angle in degrees) and expands image to avoid cropping\n",
    "    \"\"\"\n",
    "\n",
    "    height, width = mat.shape[:2] # image shape has 3 dimensions\n",
    "    image_center = (width/2, height/2) # getRotationMatrix2D needs coordinates in reverse order (width, height) compared to shape\n",
    "\n",
    "    rotation_mat = cv2.getRotationMatrix2D(image_center, angle, 1.)\n",
    "\n",
    "    # rotation calculates the cos and sin, taking absolutes of those.\n",
    "    abs_cos = abs(rotation_mat[0,0]) \n",
    "    abs_sin = abs(rotation_mat[0,1])\n",
    "\n",
    "    # find the new width and height bounds\n",
    "    bound_w = int(height * abs_sin + width * abs_cos)\n",
    "    bound_h = int(height * abs_cos + width * abs_sin)\n",
    "\n",
    "    # subtract old image center (bringing image back to origo) and adding the new image center coordinates\n",
    "    rotation_mat[0, 2] += bound_w/2 - image_center[0]\n",
    "    rotation_mat[1, 2] += bound_h/2 - image_center[1]\n",
    "\n",
    "    # rotate image with the new bounds and translated rotation matrix\n",
    "    rotated_mat = cv2.warpAffine(mat, rotation_mat, (bound_w, bound_h))\n",
    "    return rotated_mat"
   ]
  },
  {
   "cell_type": "code",
   "execution_count": 83,
   "id": "d3ccbc7a",
   "metadata": {},
   "outputs": [],
   "source": [
    "lt_masks_path = 'C:/Users/nramesh/Documents/Satellite/Images/Pix2Pix/Final Masked palm/Final Masked palm/'\n",
    "original_img_pt = 'C:/Users/nramesh/Documents/Satellite/Images/Pix2Pix/All palm/All palm/'\n",
    "new_palm_pt = 'C:/Users/nramesh/Documents/Satellite/Images/Pix2Pix/Image_Augmentation/Rotate/Palm/'\n",
    "new_mask_pt = 'C:/Users/nramesh/Documents/Satellite/Images/Pix2Pix/Image_Augmentation/Rotate/Mask/'\n",
    "dirs = os.listdir(lt_masks_path)\n",
    "for file in dirs:\n",
    "    if os.path.isfile(lt_masks_path+file) and os.path.isfile(original_img_pt+file):\n",
    "        angle = randint(-30, 30)\n",
    "        image = cv2.imread(lt_masks_path + file)\n",
    "        palm_image = cv2.imread(original_img_pt + file)\n",
    "        rotated_image = rotate_image(image, angle)\n",
    "        rotated_palm_image = rotate_image(palm_image, angle)\n",
    "        cv2.imwrite(new_mask_pt + file.split('.jpg')[0]+'_rot.jpg', rotated_image)\n",
    "        cv2.imwrite(new_palm_pt + file.split('.jpg')[0]+'_rot.jpg', rotated_palm_image)\n"
   ]
  },
  {
   "cell_type": "markdown",
   "id": "0e7567d7",
   "metadata": {},
   "source": [
    "## Image Flipping ( Random horizontal and vertical flipping)"
   ]
  },
  {
   "cell_type": "code",
   "execution_count": 26,
   "id": "686a2004",
   "metadata": {},
   "outputs": [],
   "source": [
    "##### Flipping\n",
    "def flip(image, flag):\n",
    "    return cv2.flip(image, flag)\n",
    "\n",
    "for file in dirs:\n",
    "    if os.path.isfile(lt_masks_path+file) and os.path.isfile(original_img_pt+file):\n",
    "        flag = randint(0,1)\n",
    "        image = cv2.imread(lt_masks_path + file)\n",
    "        palm_image = cv2.imread(original_img_pt + file)\n",
    "        rotated_image = flip(image, flag)\n",
    "        rotated_palm_image = flip(palm_image, flag)\n",
    "        cv2.imwrite('C:/Users/nramesh/Documents/Satellite/Images/Pix2Pix/Image_Augmentation/Flip/Mask/' + file.split('.jpg')[0]+'_flip.jpg', rotated_image)\n",
    "        cv2.imwrite('C:/Users/nramesh/Documents/Satellite/Images/Pix2Pix/Image_Augmentation/Flip/Palm/' + file.split('.jpg')[0]+'_flip.jpg', rotated_palm_image)\n"
   ]
  },
  {
   "cell_type": "markdown",
   "id": "892d3541",
   "metadata": {},
   "source": [
    "## Random cropping"
   ]
  },
  {
   "cell_type": "code",
   "execution_count": 34,
   "id": "e812dd3c",
   "metadata": {},
   "outputs": [],
   "source": [
    "def random_crop(img, mask, width, height):\n",
    "    assert img.shape[0] >= height\n",
    "    assert img.shape[1] >= width\n",
    "    assert img.shape[0] == mask.shape[0]\n",
    "    assert img.shape[1] == mask.shape[1]\n",
    "    x = random.randint(0, img.shape[1] - width)\n",
    "    y = random.randint(0, img.shape[0] - height)\n",
    "    img = img[y:y+height, x:x+width]\n",
    "    mask = mask[y:y+height, x:x+width]\n",
    "    return img, mask\n",
    "\n",
    "for file in dirs:\n",
    "    if os.path.isfile(lt_masks_path+file) and os.path.isfile(original_img_pt+file):\n",
    "        image = cv2.imread(lt_masks_path + file)\n",
    "        palm_image = cv2.imread(original_img_pt + file)\n",
    "        if (image.shape[0] > image.shape[1]):\n",
    "            rotated_image, rotated_palm_image = random_crop(image, palm_image, image.shape[1], image.shape[1])\n",
    "        else:\n",
    "            rotated_image, rotated_palm_image = random_crop(palm_image, image, image.shape[0], image.shape[0])\n",
    "        cv2.imwrite('C:/Users/nramesh/Documents/Satellite/Images/Pix2Pix/Image_Augmentation/Crop/Mask/' + file.split('.jpg')[0]+'_crop.jpg', rotated_image)\n",
    "        cv2.imwrite('C:/Users/nramesh/Documents/Satellite/Images/Pix2Pix/Image_Augmentation/Crop/Palm/' + file.split('.jpg')[0]+'_crop.jpg', rotated_palm_image)"
   ]
  },
  {
   "cell_type": "markdown",
   "id": "95054554",
   "metadata": {},
   "source": [
    "## Image enhancement"
   ]
  },
  {
   "cell_type": "code",
   "execution_count": 51,
   "id": "9810c1e1",
   "metadata": {},
   "outputs": [],
   "source": [
    "import cv2\n",
    "import numpy as np\n",
    "\n",
    "def enhance(img):\n",
    "    # converting to LAB color space\n",
    "    lab= cv2.cvtColor(img, cv2.COLOR_BGR2LAB)\n",
    "    l_channel, a, b = cv2.split(lab)\n",
    "\n",
    "    # Applying CLAHE to L-channel\n",
    "    # feel free to try different values for the limit and grid size:\n",
    "    clahe = cv2.createCLAHE(clipLimit=1.5, tileGridSize=(8,8))\n",
    "    cl = clahe.apply(l_channel)\n",
    "\n",
    "    # merge the CLAHE enhanced L-channel with the a and b channel\n",
    "    limg = cv2.merge((cl,a,b))\n",
    "\n",
    "    # Converting image from LAB Color model to BGR color spcae\n",
    "    enhanced_img = cv2.cvtColor(limg, cv2.COLOR_LAB2BGR)\n",
    "\n",
    "    # Stacking the original image with the enhanced image\n",
    "#     result = np.hstack((img, enhanced_img))\n",
    "#     cv2.imshow('Result', result)\n",
    "#     cv2.waitKey(0)\n",
    "\n",
    "    return enhanced_img\n",
    "\n",
    "\n",
    "\n",
    "    "
   ]
  },
  {
   "cell_type": "markdown",
   "id": "e2baca66",
   "metadata": {},
   "source": [
    "## Fading"
   ]
  },
  {
   "cell_type": "code",
   "execution_count": 52,
   "id": "31fbb675",
   "metadata": {},
   "outputs": [],
   "source": [
    "# img = cv2.imread('C:/Users/nramesh/Documents/Satellite/Images/Pix2Pix/All palm/All palm/screen_shot303.png', 1)\n",
    "def decrease(img):\n",
    "    imghsv = cv2.cvtColor(img, cv2.COLOR_BGR2HSV).astype(\"float32\")\n",
    "    (h, s, v) = cv2.split(imghsv)\n",
    "    sat = random.uniform(0,2)\n",
    "#     print(sat)\n",
    "    s = s*sat\n",
    "    s = np.clip(s,0,255)\n",
    "    imghsv = cv2.merge([h,s,v])\n",
    "    imgrgb = cv2.cvtColor(imghsv.astype(\"uint8\"), cv2.COLOR_HSV2BGR)\n",
    "#     result = np.hstack((img, imgrgb))\n",
    "    return imgrgb\n"
   ]
  },
  {
   "cell_type": "markdown",
   "id": "66d9beb7",
   "metadata": {},
   "source": [
    "## Incorporates all augmented images\n",
    "### Randomly enhances or degrades the images\n",
    " Here, 3 directories were used i.e. images that were flipped, cropped and the original set of images were used"
   ]
  },
  {
   "cell_type": "code",
   "execution_count": 85,
   "id": "4e6cee27",
   "metadata": {},
   "outputs": [
    {
     "name": "stdout",
     "output_type": "stream",
     "text": [
      "251\n",
      "251\n",
      "251\n"
     ]
    }
   ],
   "source": [
    "flip_path_mask = 'C:/Users/nramesh/Documents/Satellite/Images/Pix2Pix/Image_Augmentation/Flip/Mask/'\n",
    "crop_path_mask = 'C:/Users/nramesh/Documents/Satellite/Images/Pix2Pix/Image_Augmentation/Crop/Mask/'\n",
    "palm_path_mask = 'C:/Users/nramesh/Documents/Satellite/Images/Pix2Pix/Final Masked palm/Final Masked palm/'\n",
    "\n",
    "flip_path_palm = 'C:/Users/nramesh/Documents/Satellite/Images/Pix2Pix/Image_Augmentation/Flip/Palm/'\n",
    "crop_path_palm = 'C:/Users/nramesh/Documents/Satellite/Images/Pix2Pix/Image_Augmentation/Crop/Palm/'\n",
    "palm_path      = 'C:/Users/nramesh/Documents/Satellite/Images/Pix2Pix/All palm/All palm/'\n",
    "\n",
    "color_palm = 'C:/Users/nramesh/Documents/Satellite/Images/Pix2Pix/Image_Augmentation/Color_change/Palm/'\n",
    "color_mask = 'C:/Users/nramesh/Documents/Satellite/Images/Pix2Pix/Image_Augmentation/Color_change/Mask/'\n",
    "\n",
    "dir1 = os.listdir(flip_path_mask)\n",
    "dir2 = os.listdir(crop_path_mask)\n",
    "dir3 = os.listdir(palm_path_mask)\n",
    "print(len(dir1))\n",
    "print(len(dir2))\n",
    "print(len(dir3))\n",
    "for file in dir1:\n",
    "    \n",
    "    if os.path.isfile(flip_path_mask+file):\n",
    "        mask_image = cv2.imread(flip_path_mask + file)\n",
    "        palm_image = cv2.imread(flip_path_palm + file)\n",
    "        s = random.randint(0,1)\n",
    "        \n",
    "        if s == 0:\n",
    "            new_image = decrease(palm_image)\n",
    "        else:\n",
    "            new_image = enhance(palm_image)\n",
    "        cv2.imwrite('C:/Users/nramesh/Documents/Satellite/Images/Pix2Pix/Image_Augmentation/Color_change/Palm/' + file.split('.jpg')[0]+'_colr.jpg', new_image)\n",
    "        cv2.imwrite('C:/Users/nramesh/Documents/Satellite/Images/Pix2Pix/Image_Augmentation/Color_change/Mask/' + file.split('.jpg')[0]+'_colr.jpg', mask_image)\n",
    "        \n",
    "    \n",
    "for file in dir2:\n",
    "    \n",
    "    if os.path.isfile(crop_path_mask+file):\n",
    "        mask_image = cv2.imread(crop_path_mask + file)\n",
    "        palm_image = cv2.imread(crop_path_palm + file)\n",
    "        s = random.randint(0,1)\n",
    "        if s == 0:\n",
    "            new_image = decrease(palm_image)\n",
    "        else:\n",
    "            new_image = enhance(palm_image)\n",
    "        cv2.imwrite('C:/Users/nramesh/Documents/Satellite/Images/Pix2Pix/Image_Augmentation/Color_change/Palm/' + file.split('.jpg')[0]+'_colr.jpg', new_image)\n",
    "        cv2.imwrite('C:/Users/nramesh/Documents/Satellite/Images/Pix2Pix/Image_Augmentation/Color_change/Mask/' + file.split('.jpg')[0]+'_colr.jpg', mask_image)\n",
    "        \n",
    "for file in dir3:\n",
    "    print(len(dir3))\n",
    "    if os.path.isfile(palm_path_mask+file):\n",
    "        mask_image = cv2.imread(palm_path_mask + file)\n",
    "        palm_image = cv2.imread(palm_path + file)\n",
    "        s = random.randint(0,1)\n",
    "        if s == 0:\n",
    "            new_image = decrease(palm_image)\n",
    "        else:\n",
    "            new_image = enhance(palm_image)\n",
    "        cv2.imwrite('C:/Users/nramesh/Documents/Satellite/Images/Pix2Pix/Image_Augmentation/Color_change/Palm/' + file.split('.jpg')[0]+'_colr.jpg', new_image)\n",
    "        cv2.imwrite('C:/Users/nramesh/Documents/Satellite/Images/Pix2Pix/Image_Augmentation/Color_change/Mask/' + file.split('.jpg')[0]+'_colr.jpg', mask_image)        \n"
   ]
  }
 ],
 "metadata": {
  "kernelspec": {
   "display_name": "Python 3 (ipykernel)",
   "language": "python",
   "name": "python3"
  },
  "language_info": {
   "codemirror_mode": {
    "name": "ipython",
    "version": 3
   },
   "file_extension": ".py",
   "mimetype": "text/x-python",
   "name": "python",
   "nbconvert_exporter": "python",
   "pygments_lexer": "ipython3",
   "version": "3.9.12"
  }
 },
 "nbformat": 4,
 "nbformat_minor": 5
}
